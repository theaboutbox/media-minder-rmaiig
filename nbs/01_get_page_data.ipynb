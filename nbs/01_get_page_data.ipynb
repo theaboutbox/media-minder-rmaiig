{
 "cells": [
  {
   "cell_type": "markdown",
   "metadata": {},
   "source": [
    "# Get HTML Page Data\n",
    "\n",
    "> Given raw html data, extract the main body parts of the page by any means necessary"
   ]
  },
  {
   "cell_type": "code",
   "execution_count": null,
   "metadata": {},
   "outputs": [],
   "source": [
    "#| default_exp html"
   ]
  },
  {
   "cell_type": "code",
   "execution_count": null,
   "metadata": {},
   "outputs": [],
   "source": [
    "#| hide\n",
    "\n",
    "company_story = \"../test-data/Continental acquires mold specialist EMT for commercial and specialty tires.html\"\n",
    "non_company_story = \"../test-data/Culpepper Cattle Co. Dallas Opens In Continental Gin Building - Local Profile.html\""
   ]
  },
  {
   "cell_type": "markdown",
   "metadata": {},
   "source": [
    "## Extracting text and metadata from HTML files\n",
    "\n",
    "We are using [Trafilatura](https://github.com/adbar/trafilatura) to extract text and metadata from html files. Here is an example"
   ]
  },
  {
   "cell_type": "code",
   "execution_count": null,
   "metadata": {},
   "outputs": [],
   "source": [
    "#| export\n",
    "\n",
    "import trafilatura"
   ]
  },
  {
   "cell_type": "code",
   "execution_count": null,
   "metadata": {},
   "outputs": [],
   "source": [
    "#| hide\n",
    "from rich.pretty import pprint"
   ]
  },
  {
   "cell_type": "code",
   "execution_count": null,
   "metadata": {},
   "outputs": [
    {
     "name": "stdout",
     "output_type": "stream",
     "text": [
      "Culpepper Cattle Co. Dallas will open in the historical Continental Gin Building on Wednesday, May 1. The East-Texas-inspired restaurant that originated in Rockwall, Texas will be open for lunch, dinner and weekend brunch. Culpepper Cattle Co. Dallas will feature fresh Tex-Mex, prime steaks, and Texas home cooking.\n",
      "The original Culpepper Steakhouse was opened in Rockwall in 1982 by Michael “Dobber” Stephenson. Local country music artists would often play at the restaurant including sightings from Waylon Jennings and Randy Travis. The original was purchased in 1992 by Bob L. Clements who owned Culpepper for the next 30 years. He had a vision for finer dinning and brought the best-known chefs from around the country and introduced fine wines, seafood and live Jazz to the Rockwall scene.\n",
      "After closing in 2023, UNCO Hospitality Group came in to begin reviving the restaurant for its third installment, Culpepper Cattle Co. With the third iteration of Culpepper Cattle Company, the brand focuses on that same passion for the finest quality at an affordable price.\n",
      "The menu offers appetizers such as Calamari Steak Fingers with lightly breaded with sweet and spicy red sauce; Culpepper Queso served with warm house made tortilla chips; Fried Green Tomatoes with charred poblano ranch; and Flautas with choice of beef picadillo or chicken Tinga, served with sour cream sauce.\n",
      "Standout entrees include the Steakhouse Burger with a thick 10 oz house ground patty, rosemary garlic aioli, caramelized onions and gruyere cheese; 24 oz. C.A.B. Porterhouse for Two served with two house salads and two sides; double bone pork chop with a 24-hour brine, topped with steak butter; and chicken fried lobster, a 12 oz fried lobster and lemon butter. Comforting house-made sides to pair with entrees include crispy onion strings, baked sweet potato, french fries, green beans, baked potato and mac & cheese.\n",
      "The Culpepper Cattle Co. drink program focuses on tequila from small-batch producers who have a passion for classic distillation without additives. Several margaritas are available with options such as the signature Muchacho Grande with a strong and bold margarita with Cazcabel blanco, Cointreau, citrus and freshly squeezed orange juice; Slightly Sandía with watermelon-infused Lunazul blanco, montelobos mezcal, aperol, lime, jalapeño; and Purple Passion with hibiscus-infused Lunazul blanco, Cointreau, lime, fresh pineapple juice, passionfruit and bubbles.\n",
      "Top Shelf offerings including the Classic Botanist Martini with the botanist gin, dolin dry, orange bitters, served with pickled medley and the Smoky Old Fashioned with Maker’s Mark, angostura bitters, turbinado, smoked tableside with seasonal wood chips.\n",
      "Culpepper Cattle Co. will open for lunch and dinner Monday through Friday and brunch, lunch and dinner on Saturdays and Sundays. Valet is available all day along with 4-hour free parking on site. Culpepper Cattle Co. is located a t 3309 Elm Street, Dallas, TX.\n",
      "Hungry for more? Check out our dining guide.\n",
      "Don't miss anything Local. Sign up for our free newsletter.\n"
     ]
    },
    {
     "data": {
      "text/html": [
       "<pre style=\"white-space:pre;overflow-x:auto;line-height:normal;font-family:Menlo,'DejaVu Sans Mono',consolas,'Courier New',monospace\"><span style=\"font-weight: bold\">{</span>\n",
       "<span style=\"color: #7fbf7f; text-decoration-color: #7fbf7f\">│   </span><span style=\"color: #008000; text-decoration-color: #008000\">'title'</span>: <span style=\"color: #008000; text-decoration-color: #008000\">'Culpepper Cattle Co. Dallas Opens In Continental Gin Building'</span>,\n",
       "<span style=\"color: #7fbf7f; text-decoration-color: #7fbf7f\">│   </span><span style=\"color: #008000; text-decoration-color: #008000\">'author'</span>: <span style=\"color: #008000; text-decoration-color: #008000\">'Kenneth Taylor'</span>,\n",
       "<span style=\"color: #7fbf7f; text-decoration-color: #7fbf7f\">│   </span><span style=\"color: #008000; text-decoration-color: #008000\">'url'</span>: <span style=\"color: #008000; text-decoration-color: #008000\">'https://www.localprofile.com/food-drink/culpepper-cattle-co-dallas-opens-in-continental-gin-building-8668325'</span>,\n",
       "<span style=\"color: #7fbf7f; text-decoration-color: #7fbf7f\">│   </span><span style=\"color: #008000; text-decoration-color: #008000\">'hostname'</span>: <span style=\"color: #008000; text-decoration-color: #008000\">'localprofile.com'</span>,\n",
       "<span style=\"color: #7fbf7f; text-decoration-color: #7fbf7f\">│   </span><span style=\"color: #008000; text-decoration-color: #008000\">'description'</span>: <span style=\"color: #008000; text-decoration-color: #008000\">'The second location of Culpepper Cattle Co. will open on Wednesday, May 1'</span>,\n",
       "<span style=\"color: #7fbf7f; text-decoration-color: #7fbf7f\">│   </span><span style=\"color: #008000; text-decoration-color: #008000\">'sitename'</span>: <span style=\"color: #008000; text-decoration-color: #008000\">'Local Profile'</span>,\n",
       "<span style=\"color: #7fbf7f; text-decoration-color: #7fbf7f\">│   </span><span style=\"color: #008000; text-decoration-color: #008000\">'date'</span>: <span style=\"color: #008000; text-decoration-color: #008000\">'2024-04-29'</span>,\n",
       "<span style=\"color: #7fbf7f; text-decoration-color: #7fbf7f\">│   </span><span style=\"color: #008000; text-decoration-color: #008000\">'categories'</span>: <span style=\"font-weight: bold\">[</span><span style=\"color: #008000; text-decoration-color: #008000\">'Food + Drink'</span><span style=\"font-weight: bold\">]</span>,\n",
       "<span style=\"color: #7fbf7f; text-decoration-color: #7fbf7f\">│   </span><span style=\"color: #008000; text-decoration-color: #008000\">'tags'</span>: <span style=\"font-weight: bold\">[]</span>,\n",
       "<span style=\"color: #7fbf7f; text-decoration-color: #7fbf7f\">│   </span><span style=\"color: #008000; text-decoration-color: #008000\">'fingerprint'</span>: <span style=\"color: #800080; text-decoration-color: #800080; font-style: italic\">None</span>,\n",
       "<span style=\"color: #7fbf7f; text-decoration-color: #7fbf7f\">│   </span><span style=\"color: #008000; text-decoration-color: #008000\">'id'</span>: <span style=\"color: #800080; text-decoration-color: #800080; font-style: italic\">None</span>,\n",
       "<span style=\"color: #7fbf7f; text-decoration-color: #7fbf7f\">│   </span><span style=\"color: #008000; text-decoration-color: #008000\">'license'</span>: <span style=\"color: #800080; text-decoration-color: #800080; font-style: italic\">None</span>,\n",
       "<span style=\"color: #7fbf7f; text-decoration-color: #7fbf7f\">│   </span><span style=\"color: #008000; text-decoration-color: #008000\">'body'</span>: <span style=\"color: #800080; text-decoration-color: #800080; font-style: italic\">None</span>,\n",
       "<span style=\"color: #7fbf7f; text-decoration-color: #7fbf7f\">│   </span><span style=\"color: #008000; text-decoration-color: #008000\">'comments'</span>: <span style=\"color: #800080; text-decoration-color: #800080; font-style: italic\">None</span>,\n",
       "<span style=\"color: #7fbf7f; text-decoration-color: #7fbf7f\">│   </span><span style=\"color: #008000; text-decoration-color: #008000\">'commentsbody'</span>: <span style=\"color: #800080; text-decoration-color: #800080; font-style: italic\">None</span>,\n",
       "<span style=\"color: #7fbf7f; text-decoration-color: #7fbf7f\">│   </span><span style=\"color: #008000; text-decoration-color: #008000\">'raw_text'</span>: <span style=\"color: #800080; text-decoration-color: #800080; font-style: italic\">None</span>,\n",
       "<span style=\"color: #7fbf7f; text-decoration-color: #7fbf7f\">│   </span><span style=\"color: #008000; text-decoration-color: #008000\">'text'</span>: <span style=\"color: #800080; text-decoration-color: #800080; font-style: italic\">None</span>,\n",
       "<span style=\"color: #7fbf7f; text-decoration-color: #7fbf7f\">│   </span><span style=\"color: #008000; text-decoration-color: #008000\">'language'</span>: <span style=\"color: #800080; text-decoration-color: #800080; font-style: italic\">None</span>,\n",
       "<span style=\"color: #7fbf7f; text-decoration-color: #7fbf7f\">│   </span><span style=\"color: #008000; text-decoration-color: #008000\">'image'</span>: <span style=\"color: #008000; text-decoration-color: #008000\">'https://www.vmcdn.ca/f/files/localprofile/images/food-and-drink/culpepper-bar-area.jpg;w=1200;h=800;mode=crop'</span>,\n",
       "<span style=\"color: #7fbf7f; text-decoration-color: #7fbf7f\">│   </span><span style=\"color: #008000; text-decoration-color: #008000\">'pagetype'</span>: <span style=\"color: #008000; text-decoration-color: #008000\">'article'</span>,\n",
       "<span style=\"color: #7fbf7f; text-decoration-color: #7fbf7f\">│   </span><span style=\"color: #008000; text-decoration-color: #008000\">'filedate'</span>: <span style=\"color: #008000; text-decoration-color: #008000\">'2024-05-03'</span>\n",
       "<span style=\"font-weight: bold\">}</span>\n",
       "</pre>\n"
      ],
      "text/plain": [
       "\u001b[1m{\u001b[0m\n",
       "\u001b[2;32m│   \u001b[0m\u001b[32m'title'\u001b[0m: \u001b[32m'Culpepper Cattle Co. Dallas Opens In Continental Gin Building'\u001b[0m,\n",
       "\u001b[2;32m│   \u001b[0m\u001b[32m'author'\u001b[0m: \u001b[32m'Kenneth Taylor'\u001b[0m,\n",
       "\u001b[2;32m│   \u001b[0m\u001b[32m'url'\u001b[0m: \u001b[32m'https://www.localprofile.com/food-drink/culpepper-cattle-co-dallas-opens-in-continental-gin-building-8668325'\u001b[0m,\n",
       "\u001b[2;32m│   \u001b[0m\u001b[32m'hostname'\u001b[0m: \u001b[32m'localprofile.com'\u001b[0m,\n",
       "\u001b[2;32m│   \u001b[0m\u001b[32m'description'\u001b[0m: \u001b[32m'The second location of Culpepper Cattle Co. will open on Wednesday, May 1'\u001b[0m,\n",
       "\u001b[2;32m│   \u001b[0m\u001b[32m'sitename'\u001b[0m: \u001b[32m'Local Profile'\u001b[0m,\n",
       "\u001b[2;32m│   \u001b[0m\u001b[32m'date'\u001b[0m: \u001b[32m'2024-04-29'\u001b[0m,\n",
       "\u001b[2;32m│   \u001b[0m\u001b[32m'categories'\u001b[0m: \u001b[1m[\u001b[0m\u001b[32m'Food + Drink'\u001b[0m\u001b[1m]\u001b[0m,\n",
       "\u001b[2;32m│   \u001b[0m\u001b[32m'tags'\u001b[0m: \u001b[1m[\u001b[0m\u001b[1m]\u001b[0m,\n",
       "\u001b[2;32m│   \u001b[0m\u001b[32m'fingerprint'\u001b[0m: \u001b[3;35mNone\u001b[0m,\n",
       "\u001b[2;32m│   \u001b[0m\u001b[32m'id'\u001b[0m: \u001b[3;35mNone\u001b[0m,\n",
       "\u001b[2;32m│   \u001b[0m\u001b[32m'license'\u001b[0m: \u001b[3;35mNone\u001b[0m,\n",
       "\u001b[2;32m│   \u001b[0m\u001b[32m'body'\u001b[0m: \u001b[3;35mNone\u001b[0m,\n",
       "\u001b[2;32m│   \u001b[0m\u001b[32m'comments'\u001b[0m: \u001b[3;35mNone\u001b[0m,\n",
       "\u001b[2;32m│   \u001b[0m\u001b[32m'commentsbody'\u001b[0m: \u001b[3;35mNone\u001b[0m,\n",
       "\u001b[2;32m│   \u001b[0m\u001b[32m'raw_text'\u001b[0m: \u001b[3;35mNone\u001b[0m,\n",
       "\u001b[2;32m│   \u001b[0m\u001b[32m'text'\u001b[0m: \u001b[3;35mNone\u001b[0m,\n",
       "\u001b[2;32m│   \u001b[0m\u001b[32m'language'\u001b[0m: \u001b[3;35mNone\u001b[0m,\n",
       "\u001b[2;32m│   \u001b[0m\u001b[32m'image'\u001b[0m: \u001b[32m'https://www.vmcdn.ca/f/files/localprofile/images/food-and-drink/culpepper-bar-area.jpg;\u001b[0m\u001b[32mw\u001b[0m\u001b[32m=\u001b[0m\u001b[32m1200\u001b[0m\u001b[32m;\u001b[0m\u001b[32mh\u001b[0m\u001b[32m=\u001b[0m\u001b[32m800\u001b[0m\u001b[32m;\u001b[0m\u001b[32mmode\u001b[0m\u001b[32m=\u001b[0m\u001b[32mcrop\u001b[0m\u001b[32m'\u001b[0m,\n",
       "\u001b[2;32m│   \u001b[0m\u001b[32m'pagetype'\u001b[0m: \u001b[32m'article'\u001b[0m,\n",
       "\u001b[2;32m│   \u001b[0m\u001b[32m'filedate'\u001b[0m: \u001b[32m'2024-05-03'\u001b[0m\n",
       "\u001b[1m}\u001b[0m\n"
      ]
     },
     "metadata": {},
     "output_type": "display_data"
    }
   ],
   "source": [
    "\n",
    "# Step 2: Read the HTML content from your file\n",
    "html_file_path = non_company_story\n",
    "with open(html_file_path, 'r', encoding='utf-8') as file:\n",
    "    html_content = file.read()\n",
    "\n",
    "# Step 3: Use Trafilatura to process the HTML content\n",
    "# The `extract` function is used here to process the HTML content directly\n",
    "date_params = {\"original_date\": True, \"extensive_search\": True, \"max_date\": \"2024-05-03\"}\n",
    "extracted_text = trafilatura.extract(html_content, date_extraction_params=date_params)\n",
    "metadata = trafilatura.extract_metadata(html_content, date_config=date_params)\n",
    "\n",
    "# Print the extracted text\n",
    "print(extracted_text)\n",
    "pprint(metadata.as_dict())"
   ]
  },
  {
   "cell_type": "code",
   "execution_count": null,
   "metadata": {},
   "outputs": [],
   "source": [
    "#| export\n",
    "from datetime import date\n",
    "import msgspec\n"
   ]
  },
  {
   "cell_type": "markdown",
   "metadata": {},
   "source": [
    "# Extract data from web page\n",
    "\n",
    "Now that we know how to process data with Trafilatura, we can create a simple function to extract the text and other important information such as title, site and publication date from the article"
   ]
  },
  {
   "cell_type": "code",
   "execution_count": null,
   "metadata": {},
   "outputs": [],
   "source": [
    "#| export\n",
    "\n",
    "class Article(msgspec.Struct):\n",
    "    content: str\n",
    "    metadata: str\n",
    "\n",
    "def extract_article(html_content: str, date_params: dict = None) -> Article:\n",
    "    if date_params is None:\n",
    "        # set max date to today\n",
    "        today = date.today()\n",
    "        formatted_date = today.strftime(\"%Y-%m-%d\")\n",
    "        \n",
    "        date_params = {\"original_date\": True, \"extensive_search\": True, \"max_date\": formatted_date}\n",
    "\n",
    "    extracted_text = trafilatura.extract(html_content, date_extraction_params=date_params)\n",
    "    metadata = trafilatura.extract_metadata(html_content, date_config=date_params)\n",
    "    return Article(content=extracted_text, metadata=metadata.as_dict())\n"
   ]
  },
  {
   "cell_type": "markdown",
   "metadata": {},
   "source": [
    "## Processing a file with this module\n",
    "\n",
    "This is an example processing a file with this module to get content and metadata."
   ]
  },
  {
   "cell_type": "code",
   "execution_count": null,
   "metadata": {},
   "outputs": [
    {
     "data": {
      "text/html": [
       "<pre style=\"white-space:pre;overflow-x:auto;line-height:normal;font-family:Menlo,'DejaVu Sans Mono',consolas,'Courier New',monospace\"><span style=\"color: #800080; text-decoration-color: #800080; font-weight: bold\">Article</span><span style=\"font-weight: bold\">(</span>\n",
       "<span style=\"color: #7fbf7f; text-decoration-color: #7fbf7f\">│   </span><span style=\"color: #808000; text-decoration-color: #808000\">content</span>=<span style=\"color: #008000; text-decoration-color: #008000\">'Continental has acquired the mold manufacturing specialist EMT s.r.o. based in Púchov, Slovakia. All shares of Continental’s long-standing supplier were transferred to Continental effective April 2. The tire manufacturer had entered into a respective agreement with EMT’s shareholders, Dynamic Design (Romania) being the majority shareholder. All 107 employees, who have specialist knowledge in mold manufacturing, have been taken on by Continental, the company said. Further details of the agreement were not disclosed.\\nEMT is a manufacturer of special tire molds, especially for commercial vehicle and specialty tires. According to Continental, the company specializes in the milling of molds made of steel. With the acquisition of EMT, Continental said it completes its internal portfolio for mold making technologies. From now on, the tire manufacturer can independently produce tire molds for all applications if required. A first major step in this direction was the takeover of German mold manufacturer A-Z Formen in 2015 and Czech mold specialist VFC in 1993. Both companies specialize in producing molds for passenger car tires.\\n“With the acquisition of EMT, we can act completely independently in mold making if required. Having expertise for all mold applications in house is a strategic advantage, given the economic uncertainties worldwide,” Dr. Bernhard Trilken, head of production and logistics at Continental’s Tires group sector, said.\\nContinental said molds are used in tire construction as part of the vulcanization of tires. In this production step, raw rubber is converted into a flexible and elastic rubber. With the help of molds, a tire gets its desired stability and shape.\\n“We are excited about the technological reinforcement that the EMT team brings to the table. As a long-standing partner, the relationship with Continental is already close,” said Julia Sadrina, who is responsible for production of tire molds and machinery worldwide for Continental’s tire business.\\nContinental said it consistently invests in the digitalization and automation of its global manufacturing operations at its 20 tire plants in 16 countries worldwide. The company said the focus lies on research and development of technologies, alternative materials, environmentally friendly production as well continuous improvements of the overall efficiency of logistics processes. By 2050 at the latest, the tire manufacturer said it aims to achieve 100% climate neutrality along its entire value chain.'</span>,\n",
       "<span style=\"color: #7fbf7f; text-decoration-color: #7fbf7f\">│   </span><span style=\"color: #808000; text-decoration-color: #808000\">metadata</span>=<span style=\"font-weight: bold\">{</span>\n",
       "<span style=\"color: #7fbf7f; text-decoration-color: #7fbf7f\">│   │   </span><span style=\"color: #008000; text-decoration-color: #008000\">'title'</span>: <span style=\"color: #008000; text-decoration-color: #008000\">'Continental acquires mold specialist EMT for commercial and specialty tires'</span>,\n",
       "<span style=\"color: #7fbf7f; text-decoration-color: #7fbf7f\">│   │   </span><span style=\"color: #008000; text-decoration-color: #008000\">'author'</span>: <span style=\"color: #008000; text-decoration-color: #008000\">'Christian Hinton'</span>,\n",
       "<span style=\"color: #7fbf7f; text-decoration-color: #7fbf7f\">│   │   </span><span style=\"color: #008000; text-decoration-color: #008000\">'url'</span>: <span style=\"color: #008000; text-decoration-color: #008000\">'https://www.tirereview.com/continental-mold-specialist-acquisition/'</span>,\n",
       "<span style=\"color: #7fbf7f; text-decoration-color: #7fbf7f\">│   │   </span><span style=\"color: #008000; text-decoration-color: #008000\">'hostname'</span>: <span style=\"color: #008000; text-decoration-color: #008000\">'tirereview.com'</span>,\n",
       "<span style=\"color: #7fbf7f; text-decoration-color: #7fbf7f\">│   │   </span><span style=\"color: #008000; text-decoration-color: #008000\">'description'</span>: <span style=\"color: #008000; text-decoration-color: #008000\">'With the acquisition of EMT, Continental said it can independently produce tire molds for all applications if required.'</span>,\n",
       "<span style=\"color: #7fbf7f; text-decoration-color: #7fbf7f\">│   │   </span><span style=\"color: #008000; text-decoration-color: #008000\">'sitename'</span>: <span style=\"color: #008000; text-decoration-color: #008000\">'Tire Review Magazine'</span>,\n",
       "<span style=\"color: #7fbf7f; text-decoration-color: #7fbf7f\">│   │   </span><span style=\"color: #008000; text-decoration-color: #008000\">'date'</span>: <span style=\"color: #008000; text-decoration-color: #008000\">'2024-05-02'</span>,\n",
       "<span style=\"color: #7fbf7f; text-decoration-color: #7fbf7f\">│   │   </span><span style=\"color: #008000; text-decoration-color: #008000\">'categories'</span>: <span style=\"font-weight: bold\">[</span><span style=\"color: #008000; text-decoration-color: #008000\">'News'</span><span style=\"font-weight: bold\">]</span>,\n",
       "<span style=\"color: #7fbf7f; text-decoration-color: #7fbf7f\">│   │   </span><span style=\"color: #008000; text-decoration-color: #008000\">'tags'</span>: <span style=\"font-weight: bold\">[</span><span style=\"color: #008000; text-decoration-color: #008000\">'Acquisition'</span>, <span style=\"color: #008000; text-decoration-color: #008000\">'Continental Tire'</span><span style=\"font-weight: bold\">]</span>,\n",
       "<span style=\"color: #7fbf7f; text-decoration-color: #7fbf7f\">│   │   </span><span style=\"color: #008000; text-decoration-color: #008000\">'fingerprint'</span>: <span style=\"color: #800080; text-decoration-color: #800080; font-style: italic\">None</span>,\n",
       "<span style=\"color: #7fbf7f; text-decoration-color: #7fbf7f\">│   │   </span><span style=\"color: #008000; text-decoration-color: #008000\">'id'</span>: <span style=\"color: #800080; text-decoration-color: #800080; font-style: italic\">None</span>,\n",
       "<span style=\"color: #7fbf7f; text-decoration-color: #7fbf7f\">│   │   </span><span style=\"color: #008000; text-decoration-color: #008000\">'license'</span>: <span style=\"color: #800080; text-decoration-color: #800080; font-style: italic\">None</span>,\n",
       "<span style=\"color: #7fbf7f; text-decoration-color: #7fbf7f\">│   │   </span><span style=\"color: #008000; text-decoration-color: #008000\">'body'</span>: <span style=\"color: #800080; text-decoration-color: #800080; font-style: italic\">None</span>,\n",
       "<span style=\"color: #7fbf7f; text-decoration-color: #7fbf7f\">│   │   </span><span style=\"color: #008000; text-decoration-color: #008000\">'comments'</span>: <span style=\"color: #800080; text-decoration-color: #800080; font-style: italic\">None</span>,\n",
       "<span style=\"color: #7fbf7f; text-decoration-color: #7fbf7f\">│   │   </span><span style=\"color: #008000; text-decoration-color: #008000\">'commentsbody'</span>: <span style=\"color: #800080; text-decoration-color: #800080; font-style: italic\">None</span>,\n",
       "<span style=\"color: #7fbf7f; text-decoration-color: #7fbf7f\">│   │   </span><span style=\"color: #008000; text-decoration-color: #008000\">'raw_text'</span>: <span style=\"color: #800080; text-decoration-color: #800080; font-style: italic\">None</span>,\n",
       "<span style=\"color: #7fbf7f; text-decoration-color: #7fbf7f\">│   │   </span><span style=\"color: #008000; text-decoration-color: #008000\">'text'</span>: <span style=\"color: #800080; text-decoration-color: #800080; font-style: italic\">None</span>,\n",
       "<span style=\"color: #7fbf7f; text-decoration-color: #7fbf7f\">│   │   </span><span style=\"color: #008000; text-decoration-color: #008000\">'language'</span>: <span style=\"color: #800080; text-decoration-color: #800080; font-style: italic\">None</span>,\n",
       "<span style=\"color: #7fbf7f; text-decoration-color: #7fbf7f\">│   │   </span><span style=\"color: #008000; text-decoration-color: #008000\">'image'</span>: <span style=\"color: #008000; text-decoration-color: #008000\">'https://s19532.pcdn.co/wp-content/uploads/2024/04/continental_pp_tiremold-1400.jpg'</span>,\n",
       "<span style=\"color: #7fbf7f; text-decoration-color: #7fbf7f\">│   │   </span><span style=\"color: #008000; text-decoration-color: #008000\">'pagetype'</span>: <span style=\"color: #008000; text-decoration-color: #008000\">'article'</span>,\n",
       "<span style=\"color: #7fbf7f; text-decoration-color: #7fbf7f\">│   │   </span><span style=\"color: #008000; text-decoration-color: #008000\">'filedate'</span>: <span style=\"color: #008000; text-decoration-color: #008000\">'2024-05-08'</span>\n",
       "<span style=\"color: #7fbf7f; text-decoration-color: #7fbf7f\">│   </span><span style=\"font-weight: bold\">}</span>\n",
       "<span style=\"font-weight: bold\">)</span>\n",
       "</pre>\n"
      ],
      "text/plain": [
       "\u001b[1;35mArticle\u001b[0m\u001b[1m(\u001b[0m\n",
       "\u001b[2;32m│   \u001b[0m\u001b[33mcontent\u001b[0m=\u001b[32m'Continental has acquired the mold manufacturing specialist EMT s.r.o. based in Púchov, Slovakia. All shares of Continental’s long-standing supplier were transferred to Continental effective April 2. The tire manufacturer had entered into a respective agreement with EMT’s shareholders, Dynamic Design \u001b[0m\u001b[32m(\u001b[0m\u001b[32mRomania\u001b[0m\u001b[32m)\u001b[0m\u001b[32m being the majority shareholder. All 107 employees, who have specialist knowledge in mold manufacturing, have been taken on by Continental, the company said. Further details of the agreement were not disclosed.\\nEMT is a manufacturer of special tire molds, especially for commercial vehicle and specialty tires. According to Continental, the company specializes in the milling of molds made of steel. With the acquisition of EMT, Continental said it completes its internal portfolio for mold making technologies. From now on, the tire manufacturer can independently produce tire molds for all applications if required. A first major step in this direction was the takeover of German mold manufacturer A-Z Formen in 2015 and Czech mold specialist VFC in 1993. Both companies specialize in producing molds for passenger car tires.\\n“With the acquisition of EMT, we can act completely independently in mold making if required. Having expertise for all mold applications in house is a strategic advantage, given the economic uncertainties worldwide,” Dr. Bernhard Trilken, head of production and logistics at Continental’s Tires group sector, said.\\nContinental said molds are used in tire construction as part of the vulcanization of tires. In this production step, raw rubber is converted into a flexible and elastic rubber. With the help of molds, a tire gets its desired stability and shape.\\n“We are excited about the technological reinforcement that the EMT team brings to the table. As a long-standing partner, the relationship with Continental is already close,” said Julia Sadrina, who is responsible for production of tire molds and machinery worldwide for Continental’s tire business.\\nContinental said it consistently invests in the digitalization and automation of its global manufacturing operations at its 20 tire plants in 16 countries worldwide. The company said the focus lies on research and development of technologies, alternative materials, environmentally friendly production as well continuous improvements of the overall efficiency of logistics processes. By 2050 at the latest, the tire manufacturer said it aims to achieve 100% climate neutrality along its entire value chain.'\u001b[0m,\n",
       "\u001b[2;32m│   \u001b[0m\u001b[33mmetadata\u001b[0m=\u001b[1m{\u001b[0m\n",
       "\u001b[2;32m│   │   \u001b[0m\u001b[32m'title'\u001b[0m: \u001b[32m'Continental acquires mold specialist EMT for commercial and specialty tires'\u001b[0m,\n",
       "\u001b[2;32m│   │   \u001b[0m\u001b[32m'author'\u001b[0m: \u001b[32m'Christian Hinton'\u001b[0m,\n",
       "\u001b[2;32m│   │   \u001b[0m\u001b[32m'url'\u001b[0m: \u001b[32m'https://www.tirereview.com/continental-mold-specialist-acquisition/'\u001b[0m,\n",
       "\u001b[2;32m│   │   \u001b[0m\u001b[32m'hostname'\u001b[0m: \u001b[32m'tirereview.com'\u001b[0m,\n",
       "\u001b[2;32m│   │   \u001b[0m\u001b[32m'description'\u001b[0m: \u001b[32m'With the acquisition of EMT, Continental said it can independently produce tire molds for all applications if required.'\u001b[0m,\n",
       "\u001b[2;32m│   │   \u001b[0m\u001b[32m'sitename'\u001b[0m: \u001b[32m'Tire Review Magazine'\u001b[0m,\n",
       "\u001b[2;32m│   │   \u001b[0m\u001b[32m'date'\u001b[0m: \u001b[32m'2024-05-02'\u001b[0m,\n",
       "\u001b[2;32m│   │   \u001b[0m\u001b[32m'categories'\u001b[0m: \u001b[1m[\u001b[0m\u001b[32m'News'\u001b[0m\u001b[1m]\u001b[0m,\n",
       "\u001b[2;32m│   │   \u001b[0m\u001b[32m'tags'\u001b[0m: \u001b[1m[\u001b[0m\u001b[32m'Acquisition'\u001b[0m, \u001b[32m'Continental Tire'\u001b[0m\u001b[1m]\u001b[0m,\n",
       "\u001b[2;32m│   │   \u001b[0m\u001b[32m'fingerprint'\u001b[0m: \u001b[3;35mNone\u001b[0m,\n",
       "\u001b[2;32m│   │   \u001b[0m\u001b[32m'id'\u001b[0m: \u001b[3;35mNone\u001b[0m,\n",
       "\u001b[2;32m│   │   \u001b[0m\u001b[32m'license'\u001b[0m: \u001b[3;35mNone\u001b[0m,\n",
       "\u001b[2;32m│   │   \u001b[0m\u001b[32m'body'\u001b[0m: \u001b[3;35mNone\u001b[0m,\n",
       "\u001b[2;32m│   │   \u001b[0m\u001b[32m'comments'\u001b[0m: \u001b[3;35mNone\u001b[0m,\n",
       "\u001b[2;32m│   │   \u001b[0m\u001b[32m'commentsbody'\u001b[0m: \u001b[3;35mNone\u001b[0m,\n",
       "\u001b[2;32m│   │   \u001b[0m\u001b[32m'raw_text'\u001b[0m: \u001b[3;35mNone\u001b[0m,\n",
       "\u001b[2;32m│   │   \u001b[0m\u001b[32m'text'\u001b[0m: \u001b[3;35mNone\u001b[0m,\n",
       "\u001b[2;32m│   │   \u001b[0m\u001b[32m'language'\u001b[0m: \u001b[3;35mNone\u001b[0m,\n",
       "\u001b[2;32m│   │   \u001b[0m\u001b[32m'image'\u001b[0m: \u001b[32m'https://s19532.pcdn.co/wp-content/uploads/2024/04/continental_pp_tiremold-1400.jpg'\u001b[0m,\n",
       "\u001b[2;32m│   │   \u001b[0m\u001b[32m'pagetype'\u001b[0m: \u001b[32m'article'\u001b[0m,\n",
       "\u001b[2;32m│   │   \u001b[0m\u001b[32m'filedate'\u001b[0m: \u001b[32m'2024-05-08'\u001b[0m\n",
       "\u001b[2;32m│   \u001b[0m\u001b[1m}\u001b[0m\n",
       "\u001b[1m)\u001b[0m\n"
      ]
     },
     "metadata": {},
     "output_type": "display_data"
    }
   ],
   "source": [
    "with open(company_story, 'r', encoding='utf-8') as file:\n",
    "    html_content = file.read()\n",
    "\n",
    "article = extract_article(html_content)\n",
    "pprint(article)"
   ]
  },
  {
   "cell_type": "code",
   "execution_count": null,
   "metadata": {},
   "outputs": [],
   "source": [
    "#| hide\n",
    "import nbdev\n",
    "\n",
    "nbdev.nbdev_export()"
   ]
  }
 ],
 "metadata": {
  "kernelspec": {
   "display_name": "python3",
   "language": "python",
   "name": "python3"
  }
 },
 "nbformat": 4,
 "nbformat_minor": 2
}
