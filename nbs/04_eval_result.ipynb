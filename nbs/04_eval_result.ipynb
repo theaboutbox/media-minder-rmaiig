{
 "cells": [
  {
   "cell_type": "markdown",
   "metadata": {},
   "source": [
    "# Evaluate search results\n",
    "\n",
    "> Preliminary filter for search results\n"
   ]
  },
  {
   "cell_type": "code",
   "execution_count": null,
   "metadata": {},
   "outputs": [],
   "source": [
    "# | default_exp eval_results"
   ]
  },
  {
   "cell_type": "code",
   "execution_count": null,
   "metadata": {},
   "outputs": [],
   "source": [
    "# | export\n",
    "\n",
    "import os\n",
    "from groq import AsyncGroq\n",
    "from rich.pretty import pprint\n",
    "import MediaMinder.search as search"
   ]
  },
  {
   "cell_type": "code",
   "execution_count": null,
   "metadata": {},
   "outputs": [],
   "source": [
    "# | export\n",
    "\n",
    "client = AsyncGroq(\n",
    "    # This is the default and can be omitted\n",
    "    api_key=os.environ.get(\"GROQ_API_KEY\"),\n",
    ")\n",
    "\n",
    "\n",
    "async def eval_result(result: search.SearchResult, filter_str: str):\n",
    "    user_prompt = f\"\"\"Given the following title: \n",
    "'{result.title}'\n",
    "and the following summary:\n",
    "\"{result.content}\"\n",
    "\n",
    "Answer yes if this article is definitely about {filter_str}, no if this article is not about {filter_str}, and maybe if you cannot answer this question from the context alone.\"\"\"\n",
    "\n",
    "    chat_completion = await client.chat.completions.create(\n",
    "        messages=[\n",
    "            {\n",
    "                \"role\": \"system\",\n",
    "                \"content\": \"You are a helpful media analyzing bot who can answer questions about companies or topics mentioned in media articles or summaries.\",\n",
    "            },\n",
    "            {\n",
    "                \"role\": \"user\",\n",
    "                \"content\": user_prompt,\n",
    "            },\n",
    "        ],\n",
    "        temperature=0.1,\n",
    "        model=\"llama3-70b-8192\",\n",
    "    )\n",
    "    return chat_completion.choices[0].message.content"
   ]
  },
  {
   "cell_type": "code",
   "execution_count": null,
   "metadata": {},
   "outputs": [
    {
     "data": {
      "text/plain": [
       "'YES'"
      ]
     },
     "execution_count": null,
     "metadata": {},
     "output_type": "execute_result"
    }
   ],
   "source": [
    "yes_result = search.SearchResult(\n",
    "    title=\"Trimble records Q1 transportation revenue of $195M\",\n",
    "    content=\"Supply chain technology provider Trimble’s first-quarter transportation and logistics revenue totaled $195 million.\",\n",
    "    url=\"https://www.freightwaves.com/news/trimble-records-q1-transportation-revenue-of-195m\",\n",
    "    image_url=None,\n",
    "    source=\"test\",\n",
    ")\n",
    "\n",
    "await eval_result(yes_result, \"Trimble the company\")"
   ]
  },
  {
   "cell_type": "code",
   "execution_count": null,
   "metadata": {},
   "outputs": [
    {
     "name": "stdout",
     "output_type": "stream",
     "text": [
      "No\n",
      "YES\n"
     ]
    }
   ],
   "source": [
    "no_result = search.SearchResult(\n",
    "    title=\"Trimble Remains Consistent In Sun Belt Play\",\n",
    "    content=\"As Bridgit Mendler’s “Ready or Not” plays over the speakers at Veterans Memorial Park, James Madison’s Fenwick Trimble begins ...\",\n",
    "    url=\"https://www.dnronline.com/sports/level/college/james_madison_university/trimble-remains-consistent-in-sun-belt-play/article_38d18b7e-5293-59f0-b879-d8fb4a4daef1.html\",\n",
    "    image_url=\"https://www.bing.com//th?id=OVFT.kgXFqSYkM5Z4obXNYIEVBy&pid=News&w=234&h=132&c=14&rs=2&qlt=90\",\n",
    "    source=\"test\",\n",
    ")\n",
    "\n",
    "print(await eval_result(no_result, \"Trimble the company\"))\n",
    "print(await eval_result(no_result, \"Sporting Event\"))"
   ]
  },
  {
   "cell_type": "code",
   "execution_count": null,
   "metadata": {},
   "outputs": [],
   "source": [
    "#| hide\n",
    "import nbdev\n",
    "\n",
    "nbdev.nbdev_export()"
   ]
  }
 ],
 "metadata": {
  "kernelspec": {
   "display_name": "python3",
   "language": "python",
   "name": "python3"
  }
 },
 "nbformat": 4,
 "nbformat_minor": 2
}
